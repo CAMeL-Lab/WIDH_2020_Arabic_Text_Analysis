{
 "cells": [
  {
   "cell_type": "markdown",
   "metadata": {},
   "source": [
    "# Installing Jupyter Lab and CAMeL Tools\n",
    "\n",
    "Assuming you have already Python 3.5+ installed, run the following command\n",
    "to install Jupyter Lab and CAMeL Tools:\n",
    "\n",
    "```\n",
    "pip install jupyterlab camel-tools\n",
    "```\n",
    "\n",
    "Now we can run Jupyter Lab by running:\n",
    "\n",
    "```\n",
    "cd /path/to/WIDH_2020-Arabic_Text_Processing\n",
    "jupyter lab\n",
    "```"
   ]
  }
 ],
 "metadata": {
  "kernelspec": {
   "display_name": "Python 3",
   "language": "python",
   "name": "python3"
  },
  "language_info": {
   "codemirror_mode": {
    "name": "ipython",
    "version": 3
   },
   "file_extension": ".py",
   "mimetype": "text/x-python",
   "name": "python",
   "nbconvert_exporter": "python",
   "pygments_lexer": "ipython3",
   "version": "3.7.1"
  }
 },
 "nbformat": 4,
 "nbformat_minor": 4
}
